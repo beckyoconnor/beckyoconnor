{
 "cells": [
  {
   "cell_type": "markdown",
   "id": "e4022bce",
   "metadata": {},
   "source": [
    "# Model Training\n",
    "\n",
    "We will be training and building the model, based on the feature engineered data that is stored in the table. The entire training \n",
    "is done using Snowpark optimized warehouse and using stored procedure. Hence all the operations will be natively executed in Snowflake."
   ]
  },
  {
   "cell_type": "code",
   "execution_count": 57,
   "id": "5679b2d2",
   "metadata": {},
   "outputs": [
    {
     "data": {
      "text/markdown": [
       "### Initialization"
      ],
      "text/plain": [
       "<IPython.core.display.Markdown object>"
      ]
     },
     "metadata": {},
     "output_type": "display_data"
    },
    {
     "data": {
      "text/html": [
       "<div>\n",
       "<style scoped>\n",
       "    .dataframe tbody tr th:only-of-type {\n",
       "        vertical-align: middle;\n",
       "    }\n",
       "\n",
       "    .dataframe tbody tr th {\n",
       "        vertical-align: top;\n",
       "    }\n",
       "\n",
       "    .dataframe thead th {\n",
       "        text-align: right;\n",
       "    }\n",
       "</style>\n",
       "<table border=\"1\" class=\"dataframe\">\n",
       "  <thead>\n",
       "    <tr style=\"text-align: right;\">\n",
       "      <th></th>\n",
       "      <th>CURRENT_USER()</th>\n",
       "      <th>CURRENT_ROLE()</th>\n",
       "      <th>CURRENT_DATABASE()</th>\n",
       "      <th>CURRENT_SCHEMA()</th>\n",
       "    </tr>\n",
       "  </thead>\n",
       "  <tbody>\n",
       "    <tr>\n",
       "      <th>0</th>\n",
       "      <td>BECKY</td>\n",
       "      <td>PUBLIC</td>\n",
       "      <td>INDSOL_DICOM_DB</td>\n",
       "      <td>PUBLIC</td>\n",
       "    </tr>\n",
       "  </tbody>\n",
       "</table>\n",
       "</div>"
      ],
      "text/plain": [
       "  CURRENT_USER() CURRENT_ROLE() CURRENT_DATABASE() CURRENT_SCHEMA()\n",
       "0          BECKY         PUBLIC    INDSOL_DICOM_DB           PUBLIC"
      ]
     },
     "metadata": {},
     "output_type": "display_data"
    }
   ],
   "source": [
    "from IPython.display import display, HTML, Image , Markdown\n",
    "from snowflake.snowpark.session import Session\n",
    "import snowflake.snowpark.types as T\n",
    "import snowflake.snowpark.functions as F\n",
    "import os ,configparser ,json ,logging\n",
    "\n",
    "# Import the commonly defined utility scripts using\n",
    "# dynamic path include\n",
    "import sys\n",
    "sys.path.append('../python/lutils')\n",
    "import sflk_base as L\n",
    "\n",
    "display(Markdown(\"### Initialization\"))\n",
    "logging.basicConfig(stream=sys.stdout, level=logging.ERROR)\n",
    "\n",
    "# Source various helper functions\n",
    "%run ./scripts/notebook_helpers.py\n",
    "\n",
    "# Define the project home directory, this is used for locating the config.ini file\n",
    "PROJECT_HOME_DIR = '../../'\n",
    "config = L.get_config(PROJECT_HOME_DIR)\n",
    "sp_session = L.connect_to_snowflake(PROJECT_HOME_DIR)\n",
    "\n",
    "if(sp_session == None):\n",
    "    raise Exception(f'Unable to connect to snowflake. Validate connection information ')\n",
    "\n",
    "sp_session.use_role(f'''{config['APP_DB']['role']}''')\n",
    "sp_session.use_schema(f'''{config['APP_DB']['database']}.{config['APP_DB']['schema']}''')\n",
    "sp_session.use_warehouse(f'''{config['APP_DB']['snow_opt_wh']}''')\n",
    "\n",
    "df = sp_session.sql('select current_user() ,current_role() ,current_database() ,current_schema();').to_pandas()\n",
    "display(df)"
   ]
  },
  {
   "cell_type": "code",
   "execution_count": 61,
   "id": "c140a570",
   "metadata": {},
   "outputs": [
    {
     "data": {
      "text/html": [
       "<div>\n",
       "<style scoped>\n",
       "    .dataframe tbody tr th:only-of-type {\n",
       "        vertical-align: middle;\n",
       "    }\n",
       "\n",
       "    .dataframe tbody tr th {\n",
       "        vertical-align: top;\n",
       "    }\n",
       "\n",
       "    .dataframe thead th {\n",
       "        text-align: right;\n",
       "    }\n",
       "</style>\n",
       "<table border=\"1\" class=\"dataframe\">\n",
       "  <thead>\n",
       "    <tr style=\"text-align: right;\">\n",
       "      <th></th>\n",
       "      <th>IMAGE_FILE_PATH</th>\n",
       "      <th>CLASS_LABEL</th>\n",
       "      <th>IMAGE_ARRAY</th>\n",
       "      <th>IMAGE_ARRAY_SHAPE_0</th>\n",
       "      <th>IMAGE_ARRAY_SHAPE_1</th>\n",
       "      <th>NORMALIZED_IMAGE_ARRAY</th>\n",
       "      <th>PARSING_EXECPTION</th>\n",
       "      <th>STATUS</th>\n",
       "      <th>RESIZED_FEATURE</th>\n",
       "      <th>CLASS_LABEL_NUM</th>\n",
       "    </tr>\n",
       "  </thead>\n",
       "  <tbody>\n",
       "    <tr>\n",
       "      <th>0</th>\n",
       "      <td>@data_stg/NORMAL/NORMAL2-IM-1152-0001-0001.jpeg</td>\n",
       "      <td>NORMAL</td>\n",
       "      <td>\"[0, 0, 2, 14, 27, 39, 54, 66, 76, 83, 89, 94,...</td>\n",
       "      <td>150</td>\n",
       "      <td>150</td>\n",
       "      <td>\"[0.0, 0.0, 0.00784313725490196, 0.05490196078...</td>\n",
       "      <td>None</td>\n",
       "      <td>True</td>\n",
       "      <td>\"[0.0, 0.0, 0.00784313725490196, 0.05490196078...</td>\n",
       "      <td>1</td>\n",
       "    </tr>\n",
       "    <tr>\n",
       "      <th>1</th>\n",
       "      <td>@data_stg/NORMAL/NORMAL2-IM-0777-0001.jpeg</td>\n",
       "      <td>NORMAL</td>\n",
       "      <td>\"[65, 64, 62, 63, 65, 78, 129, 128, 115, 114, ...</td>\n",
       "      <td>150</td>\n",
       "      <td>150</td>\n",
       "      <td>\"[0.2549019607843137, 0.25098039215686274, 0.2...</td>\n",
       "      <td>None</td>\n",
       "      <td>True</td>\n",
       "      <td>\"[0.2549019607843137, 0.25098039215686274, 0.2...</td>\n",
       "      <td>1</td>\n",
       "    </tr>\n",
       "    <tr>\n",
       "      <th>2</th>\n",
       "      <td>@data_stg/NORMAL/NORMAL2-IM-0776-0001.jpeg</td>\n",
       "      <td>NORMAL</td>\n",
       "      <td>\"[78, 84, 88, 99, 114, 118, 125, 133, 143, 146...</td>\n",
       "      <td>150</td>\n",
       "      <td>150</td>\n",
       "      <td>\"[0.3058823529411765, 0.32941176470588235, 0.3...</td>\n",
       "      <td>None</td>\n",
       "      <td>True</td>\n",
       "      <td>\"[0.3058823529411765, 0.32941176470588235, 0.3...</td>\n",
       "      <td>1</td>\n",
       "    </tr>\n",
       "    <tr>\n",
       "      <th>3</th>\n",
       "      <td>@data_stg/PNEUMONIA/person770_virus_1398.jpeg</td>\n",
       "      <td>PNEUMONIA</td>\n",
       "      <td>\"[0.38100050255911144, 0.38885678734159373, 0....</td>\n",
       "      <td>150</td>\n",
       "      <td>150</td>\n",
       "      <td>\"[0.0014941196178788684, 0.0015249285778101715...</td>\n",
       "      <td>None</td>\n",
       "      <td>True</td>\n",
       "      <td>\"[0.0014941196178788684, 0.0015249285778101715...</td>\n",
       "      <td>0</td>\n",
       "    </tr>\n",
       "    <tr>\n",
       "      <th>4</th>\n",
       "      <td>@data_stg/PNEUMONIA/person381_bacteria_1731.jpeg</td>\n",
       "      <td>PNEUMONIA</td>\n",
       "      <td>\"[9, 10, 10, 11, 12, 13, 14, 14, 15, 16, 20, 2...</td>\n",
       "      <td>150</td>\n",
       "      <td>150</td>\n",
       "      <td>\"[0.03529411764705882, 0.0392156862745098, 0.0...</td>\n",
       "      <td>None</td>\n",
       "      <td>True</td>\n",
       "      <td>\"[0.03529411764705882, 0.0392156862745098, 0.0...</td>\n",
       "      <td>0</td>\n",
       "    </tr>\n",
       "  </tbody>\n",
       "</table>\n",
       "</div>"
      ],
      "text/plain": [
       "                                    IMAGE_FILE_PATH CLASS_LABEL  \\\n",
       "0   @data_stg/NORMAL/NORMAL2-IM-1152-0001-0001.jpeg      NORMAL   \n",
       "1        @data_stg/NORMAL/NORMAL2-IM-0777-0001.jpeg      NORMAL   \n",
       "2        @data_stg/NORMAL/NORMAL2-IM-0776-0001.jpeg      NORMAL   \n",
       "3     @data_stg/PNEUMONIA/person770_virus_1398.jpeg   PNEUMONIA   \n",
       "4  @data_stg/PNEUMONIA/person381_bacteria_1731.jpeg   PNEUMONIA   \n",
       "\n",
       "                                         IMAGE_ARRAY  IMAGE_ARRAY_SHAPE_0  \\\n",
       "0  \"[0, 0, 2, 14, 27, 39, 54, 66, 76, 83, 89, 94,...                  150   \n",
       "1  \"[65, 64, 62, 63, 65, 78, 129, 128, 115, 114, ...                  150   \n",
       "2  \"[78, 84, 88, 99, 114, 118, 125, 133, 143, 146...                  150   \n",
       "3  \"[0.38100050255911144, 0.38885678734159373, 0....                  150   \n",
       "4  \"[9, 10, 10, 11, 12, 13, 14, 14, 15, 16, 20, 2...                  150   \n",
       "\n",
       "   IMAGE_ARRAY_SHAPE_1                             NORMALIZED_IMAGE_ARRAY  \\\n",
       "0                  150  \"[0.0, 0.0, 0.00784313725490196, 0.05490196078...   \n",
       "1                  150  \"[0.2549019607843137, 0.25098039215686274, 0.2...   \n",
       "2                  150  \"[0.3058823529411765, 0.32941176470588235, 0.3...   \n",
       "3                  150  \"[0.0014941196178788684, 0.0015249285778101715...   \n",
       "4                  150  \"[0.03529411764705882, 0.0392156862745098, 0.0...   \n",
       "\n",
       "  PARSING_EXECPTION  STATUS  \\\n",
       "0              None    True   \n",
       "1              None    True   \n",
       "2              None    True   \n",
       "3              None    True   \n",
       "4              None    True   \n",
       "\n",
       "                                     RESIZED_FEATURE  CLASS_LABEL_NUM  \n",
       "0  \"[0.0, 0.0, 0.00784313725490196, 0.05490196078...                1  \n",
       "1  \"[0.2549019607843137, 0.25098039215686274, 0.2...                1  \n",
       "2  \"[0.3058823529411765, 0.32941176470588235, 0.3...                1  \n",
       "3  \"[0.0014941196178788684, 0.0015249285778101715...                0  \n",
       "4  \"[0.03529411764705882, 0.0392156862745098, 0.0...                0  "
      ]
     },
     "metadata": {},
     "output_type": "display_data"
    }
   ],
   "source": [
    "df = sp_session.table('images_formatted').sample(n=5).to_pandas()\n",
    "display(df)"
   ]
  },
  {
   "cell_type": "code",
   "execution_count": 62,
   "id": "269ae7b7",
   "metadata": {},
   "outputs": [
    {
     "data": {
      "text/markdown": [
       "Model training ..."
      ],
      "text/plain": [
       "<IPython.core.display.Markdown object>"
      ]
     },
     "metadata": {},
     "output_type": "display_data"
    },
    {
     "name": "stdout",
     "output_type": "stream",
     "text": [
      " call train_pneumonia_identification_model(\n",
      "        10000 \n",
      "        ,'@model_stg' \n",
      "        ,'pneumonia_model.joblib' \n",
      "        ,3); \n",
      "Total execution time for training: 0.038557999999998316 minutes\n",
      "[Row(TRAIN_PNEUMONIA_IDENTIFICATION_MODEL='{\\n  \"ac\": 0.33604336043360433,\\n  \"cf\": {\\n    \"Normal (Class 1)\": {\\n      \"f1-score\": 0.45796460176991155,\\n      \"precision\": 0.296987087517934,\\n      \"recall\": 1,\\n      \"support\": 207\\n    },\\n    \"Pneumonia (Class 0)\": {\\n      \"f1-score\": 0.14335664335664336,\\n      \"precision\": 1,\\n      \"recall\": 0.07721280602636535,\\n      \"support\": 531\\n    },\\n    \"accuracy\": 0.33604336043360433,\\n    \"macro avg\": {\\n      \"f1-score\": 0.30066062256327747,\\n      \"precision\": 0.648493543758967,\\n      \"recall\": 0.5386064030131826,\\n      \"support\": 738\\n    },\\n    \"name\": \"DICOM_Training_2023-02-07 01:46:39.545122\",\\n    \"weighted avg\": {\\n      \"f1-score\": 0.23160033900914542,\\n      \"precision\": 0.8028134513769816,\\n      \"recall\": 0.33604336043360433,\\n      \"support\": 738\\n    }\\n  },\\n  \"cm\": {\\n    \"Normal (Class 1)\": {\\n      \"0\": 490,\\n      \"1\": 207\\n    },\\n    \"Pneumonia (Class 0)\": {\\n      \"0\": 41,\\n      \"1\": 0\\n    }\\n  },\\n  \"logs\": [\\n    \"load data ...\",\\n    \"train and split ...\",\\n    \" LEN train test val : 1497 / 1101 / 738\",\\n    \"reshape data ...\",\\n    \"reshape data 3 ...\",\\n    \" Shapeof Train / Val : (1497, 1) / (738, 1)\",\\n    \"reshape data 2.1 ...\",\\n    \" Shapeof Train / Val : (1497, 150, 150, 1) / (1497,)\",\\n    \"reshape data 2.3 ...\",\\n    \" Shapeof Train / Val : (738, 150, 150, 1) / (738,)\",\\n    \"instantiate data generator ...\",\\n    \"define model pipeline ...\",\\n    \"model fit ...\",\\n    \" y_pred : [[1]\\\\n [1]\\\\n [1]\\\\n [1]\\\\n [1]\\\\n [1]\\\\n [1]\\\\n [1]\\\\n [1]\\\\n [1]\\\\n [1]\\\\n [1]\\\\n [1]\\\\n [1]\\\\n [1]\\\\n [1]\\\\n [1]\\\\n [1]\\\\n [1]\\\\n [1]\\\\n [1]\\\\n [1]\\\\n [0]\\\\n [1]\\\\n [1]\\\\n [1]\\\\n [0]\\\\n [0]\\\\n [1]\\\\n [1]\\\\n [1]\\\\n [1]\\\\n [1]\\\\n [1]\\\\n [1]\\\\n [1]\\\\n [1]\\\\n [1]\\\\n [1]\\\\n [1]\\\\n [1]\\\\n [1]\\\\n [1]\\\\n [1]\\\\n [1]\\\\n [1]\\\\n [1]\\\\n [1]\\\\n [1]\\\\n [1]\\\\n [1]\\\\n [1]\\\\n [1]\\\\n [1]\\\\n [1]\\\\n [1]\\\\n [1]\\\\n [1]\\\\n [1]\\\\n [1]\\\\n [1]\\\\n [1]\\\\n [1]\\\\n [1]\\\\n [1]\\\\n [1]\\\\n [1]\\\\n [1]\\\\n [1]\\\\n [1]\\\\n [1]\\\\n [1]\\\\n [1]\\\\n [1]\\\\n [1]\\\\n [1]\\\\n [1]\\\\n [1]\\\\n [1]\\\\n [1]\\\\n [0]\\\\n [1]\\\\n [1]\\\\n [1]\\\\n [1]\\\\n [1]\\\\n [1]\\\\n [1]\\\\n [1]\\\\n [1]\\\\n [1]\\\\n [1]\\\\n [1]\\\\n [1]\\\\n [1]\\\\n [1]\\\\n [1]\\\\n [1]\\\\n [1]\\\\n [1]\\\\n [1]\\\\n [1]\\\\n [1]\\\\n [1]\\\\n [1]\\\\n [1]\\\\n [0]\\\\n [1]\\\\n [1]\\\\n [1]\\\\n [1]\\\\n [1]\\\\n [1]\\\\n [1]\\\\n [1]\\\\n [1]\\\\n [1]\\\\n [1]\\\\n [1]\\\\n [1]\\\\n [1]\\\\n [1]\\\\n [1]\\\\n [1]\\\\n [1]\\\\n [1]\\\\n [1]\\\\n [1]\\\\n [1]\\\\n [1]\\\\n [1]\\\\n [1]\\\\n [1]\\\\n [0]\\\\n [1]\\\\n [1]\\\\n [1]\\\\n [1]\\\\n [1]\\\\n [1]\\\\n [1]\\\\n [1]\\\\n [0]\\\\n [1]\\\\n [1]\\\\n [1]\\\\n [1]\\\\n [1]\\\\n [1]\\\\n [1]\\\\n [1]\\\\n [1]\\\\n [1]\\\\n [1]\\\\n [0]\\\\n [0]\\\\n [1]\\\\n [1]\\\\n [1]\\\\n [1]\\\\n [1]\\\\n [1]\\\\n [1]\\\\n [1]\\\\n [1]\\\\n [1]\\\\n [1]\\\\n [1]\\\\n [1]\\\\n [0]\\\\n [1]\\\\n [1]\\\\n [1]\\\\n [1]\\\\n [1]\\\\n [1]\\\\n [1]\\\\n [1]\\\\n [1]\\\\n [1]\\\\n [1]\\\\n [1]\\\\n [1]\\\\n [1]\\\\n [1]\\\\n [1]\\\\n [1]\\\\n [0]\\\\n [0]\\\\n [1]\\\\n [1]\\\\n [1]\\\\n [1]\\\\n [1]\\\\n [1]\\\\n [1]\\\\n [1]\\\\n [1]\\\\n [1]\\\\n [1]\\\\n [1]\\\\n [1]\\\\n [1]\\\\n [1]\\\\n [1]\\\\n [1]\\\\n [1]\\\\n [0]\\\\n [1]\\\\n [1]\\\\n [1]\\\\n [1]\\\\n [1]\\\\n [1]\\\\n [1]\\\\n [0]\\\\n [1]\\\\n [1]\\\\n [1]\\\\n [1]\\\\n [1]\\\\n [1]\\\\n [0]\\\\n [1]\\\\n [1]\\\\n [1]\\\\n [0]\\\\n [1]\\\\n [1]\\\\n [1]\\\\n [1]\\\\n [1]\\\\n [1]\\\\n [1]\\\\n [1]\\\\n [1]\\\\n [1]\\\\n [1]\\\\n [1]\\\\n [1]\\\\n [1]\\\\n [0]\\\\n [1]\\\\n [1]\\\\n [1]\\\\n [1]\\\\n [0]\\\\n [1]\\\\n [1]\\\\n [1]\\\\n [1]\\\\n [1]\\\\n [1]\\\\n [1]\\\\n [1]\\\\n [1]\\\\n [1]\\\\n [1]\\\\n [1]\\\\n [1]\\\\n [1]\\\\n [1]\\\\n [1]\\\\n [1]\\\\n [1]\\\\n [1]\\\\n [1]\\\\n [1]\\\\n [1]\\\\n [1]\\\\n [1]\\\\n [1]\\\\n [0]\\\\n [1]\\\\n [1]\\\\n [1]\\\\n [1]\\\\n [1]\\\\n [1]\\\\n [1]\\\\n [1]\\\\n [1]\\\\n [1]\\\\n [1]\\\\n [1]\\\\n [1]\\\\n [1]\\\\n [1]\\\\n [1]\\\\n [1]\\\\n [1]\\\\n [1]\\\\n [1]\\\\n [1]\\\\n [1]\\\\n [1]\\\\n [1]\\\\n [1]\\\\n [0]\\\\n [1]\\\\n [1]\\\\n [1]\\\\n [1]\\\\n [0]\\\\n [1]\\\\n [1]\\\\n [1]\\\\n [1]\\\\n [1]\\\\n [1]\\\\n [1]\\\\n [1]\\\\n [1]\\\\n [1]\\\\n [1]\\\\n [1]\\\\n [1]\\\\n [1]\\\\n [1]\\\\n [1]\\\\n [1]\\\\n [1]\\\\n [1]\\\\n [1]\\\\n [1]\\\\n [1]\\\\n [1]\\\\n [1]\\\\n [1]\\\\n [1]\\\\n [1]\\\\n [1]\\\\n [1]\\\\n [1]\\\\n [1]\\\\n [1]\\\\n [1]\\\\n [1]\\\\n [1]\\\\n [0]\\\\n [1]\\\\n [1]\\\\n [1]\\\\n [1]\\\\n [1]\\\\n [1]\\\\n [1]\\\\n [1]\\\\n [1]\\\\n [1]\\\\n [1]\\\\n [1]\\\\n [1]\\\\n [1]\\\\n [1]\\\\n [1]\\\\n [1]\\\\n [1]\\\\n [1]\\\\n [1]\\\\n [1]\\\\n [1]\\\\n [1]\\\\n [1]\\\\n [1]\\\\n [0]\\\\n [1]\\\\n [0]\\\\n [0]\\\\n [1]\\\\n [1]\\\\n [1]\\\\n [1]\\\\n [1]\\\\n [1]\\\\n [1]\\\\n [1]\\\\n [1]\\\\n [1]\\\\n [1]\\\\n [1]\\\\n [1]\\\\n [1]\\\\n [1]\\\\n [1]\\\\n [1]\\\\n [1]\\\\n [1]\\\\n [1]\\\\n [1]\\\\n [1]\\\\n [1]\\\\n [1]\\\\n [1]\\\\n [1]\\\\n [1]\\\\n [1]\\\\n [1]\\\\n [1]\\\\n [1]\\\\n [1]\\\\n [1]\\\\n [1]\\\\n [1]\\\\n [1]\\\\n [1]\\\\n [1]\\\\n [1]\\\\n [1]\\\\n [1]\\\\n [1]\\\\n [1]\\\\n [1]\\\\n [0]\\\\n [1]\\\\n [1]\\\\n [1]\\\\n [1]\\\\n [1]\\\\n [1]\\\\n [1]\\\\n [0]\\\\n [1]\\\\n [1]\\\\n [1]\\\\n [1]\\\\n [0]\\\\n [1]\\\\n [1]\\\\n [1]\\\\n [1]\\\\n [1]\\\\n [1]\\\\n [1]\\\\n [1]\\\\n [1]\\\\n [1]\\\\n [1]\\\\n [1]\\\\n [0]\\\\n [1]\\\\n [1]\\\\n [0]\\\\n [1]\\\\n [1]\\\\n [1]\\\\n [1]\\\\n [1]\\\\n [1]\\\\n [1]\\\\n [1]\\\\n [1]\\\\n [1]\\\\n [1]\\\\n [1]\\\\n [1]\\\\n [1]\\\\n [1]\\\\n [1]\\\\n [1]\\\\n [1]\\\\n [1]\\\\n [1]\\\\n [1]\\\\n [1]\\\\n [1]\\\\n [1]\\\\n [1]\\\\n [1]\\\\n [1]\\\\n [1]\\\\n [1]\\\\n [1]\\\\n [1]\\\\n [0]\\\\n [1]\\\\n [1]\\\\n [1]\\\\n [1]\\\\n [1]\\\\n [1]\\\\n [1]\\\\n [1]\\\\n [1]\\\\n [1]\\\\n [1]\\\\n [1]\\\\n [1]\\\\n [1]\\\\n [1]\\\\n [1]\\\\n [1]\\\\n [1]\\\\n [1]\\\\n [1]\\\\n [1]\\\\n [1]\\\\n [1]\\\\n [1]\\\\n [1]\\\\n [1]\\\\n [1]\\\\n [1]\\\\n [1]\\\\n [1]\\\\n [1]\\\\n [1]\\\\n [1]\\\\n [1]\\\\n [1]\\\\n [1]\\\\n [1]\\\\n [1]\\\\n [1]\\\\n [1]\\\\n [1]\\\\n [1]\\\\n [1]\\\\n [1]\\\\n [1]\\\\n [1]\\\\n [1]\\\\n [1]\\\\n [1]\\\\n [1]\\\\n [1]\\\\n [1]\\\\n [1]\\\\n [1]\\\\n [1]\\\\n [1]\\\\n [1]\\\\n [1]\\\\n [1]\\\\n [1]\\\\n [1]\\\\n [1]\\\\n [1]\\\\n [1]\\\\n [1]\\\\n [1]\\\\n [1]\\\\n [1]\\\\n [1]\\\\n [1]\\\\n [1]\\\\n [1]\\\\n [1]\\\\n [1]\\\\n [1]\\\\n [1]\\\\n [1]\\\\n [1]\\\\n [1]\\\\n [1]\\\\n [0]\\\\n [1]\\\\n [1]\\\\n [1]\\\\n [1]\\\\n [1]\\\\n [1]\\\\n [1]\\\\n [1]\\\\n [1]\\\\n [1]\\\\n [1]\\\\n [1]\\\\n [1]\\\\n [0]\\\\n [1]\\\\n [1]\\\\n [1]\\\\n [1]\\\\n [1]\\\\n [1]\\\\n [1]\\\\n [1]\\\\n [1]\\\\n [1]\\\\n [1]\\\\n [1]\\\\n [1]\\\\n [1]\\\\n [1]\\\\n [1]\\\\n [1]\\\\n [1]\\\\n [1]\\\\n [1]\\\\n [1]\\\\n [1]\\\\n [1]\\\\n [1]\\\\n [1]\\\\n [1]\\\\n [1]\\\\n [1]\\\\n [1]\\\\n [1]\\\\n [1]\\\\n [0]\\\\n [1]\\\\n [0]\\\\n [1]\\\\n [1]\\\\n [1]\\\\n [1]\\\\n [1]\\\\n [1]\\\\n [1]\\\\n [1]\\\\n [1]\\\\n [1]\\\\n [1]\\\\n [1]\\\\n [1]\\\\n [1]\\\\n [0]\\\\n [1]\\\\n [1]\\\\n [1]\\\\n [1]\\\\n [1]\\\\n [1]\\\\n [1]\\\\n [1]\\\\n [1]\\\\n [1]\\\\n [1]\\\\n [1]\\\\n [1]\\\\n [1]\\\\n [1]\\\\n [0]\\\\n [1]\\\\n [1]\\\\n [1]\\\\n [1]\\\\n [0]\\\\n [1]\\\\n [1]\\\\n [1]\\\\n [1]\\\\n [1]\\\\n [1]\\\\n [1]\\\\n [1]\\\\n [1]\\\\n [1]\\\\n [1]\\\\n [1]\\\\n [1]\\\\n [1]\\\\n [1]\\\\n [1]\\\\n [1]\\\\n [1]\\\\n [1]\\\\n [1]\\\\n [1]\\\\n [1]\\\\n [1]\\\\n [1]\\\\n [0]\\\\n [1]\\\\n [1]\\\\n [1]\\\\n [1]\\\\n [1]\\\\n [1]\\\\n [1]\\\\n [0]\\\\n [1]\\\\n [1]\\\\n [1]\\\\n [1]\\\\n [1]\\\\n [1]\\\\n [1]\\\\n [1]\\\\n [1]\\\\n [1]\\\\n [1]\\\\n [1]\\\\n [1]\\\\n [1]\\\\n [1]\\\\n [1]\\\\n [1]\\\\n [1]\\\\n [0]\\\\n [1]\\\\n [1]\\\\n [1]\\\\n [1]\\\\n [1]\\\\n [1]\\\\n [1]\\\\n [1]\\\\n [1]\\\\n [1]\\\\n [1]\\\\n [1]\\\\n [1]\\\\n [1]\\\\n [1]\\\\n [1]\\\\n [1]\\\\n [1]\\\\n [1]\\\\n [1]\\\\n [1]\\\\n [1]\\\\n [1]\\\\n [1]\\\\n [1]\\\\n [1]\\\\n [1]\\\\n [1]\\\\n [1]\\\\n [1]\\\\n [1]\\\\n [1]\\\\n [1]\\\\n [1]\\\\n [1]\\\\n [1]\\\\n [1]\\\\n [1]\\\\n [1]\\\\n [1]\\\\n [1]\\\\n [1]\\\\n [1]\\\\n [1]\\\\n [1]\\\\n [1]]\",\\n    \" y_test : [0, 0, 0, 0, 0, 0, 0, 1, 0, 1, 0, 0, 0, 1, 1, 0, 0, 0, 1, 0, 0, 0, 0, 0, 0, 1, 0, 0, 0, 0, 0, 1, 0, 0, 0, 0, 0, 0, 0, 0, 0, 0, 0, 0, 0, 0, 0, 0, 0, 1, 0, 1, 1, 0, 0, 1, 1, 1, 0, 0, 1, 0, 0, 0, 1, 1, 1, 0, 0, 0, 1, 0, 0, 1, 0, 1, 0, 1, 0, 0, 0, 1, 0, 0, 1, 1, 0, 1, 0, 0, 1, 1, 0, 0, 0, 0, 1, 0, 0, 0, 0, 1, 0, 1, 0, 0, 0, 0, 1, 0, 1, 0, 1, 0, 1, 1, 1, 0, 0, 0, 0, 0, 1, 0, 0, 0, 0, 0, 1, 1, 0, 1, 0, 0, 0, 0, 0, 0, 1, 0, 1, 1, 0, 0, 0, 0, 1, 1, 0, 0, 0, 0, 1, 0, 0, 0, 0, 0, 0, 0, 0, 0, 0, 0, 0, 1, 0, 0, 0, 0, 0, 0, 1, 0, 1, 0, 1, 0, 1, 0, 0, 0, 0, 1, 0, 0, 1, 0, 0, 1, 0, 0, 0, 0, 1, 1, 0, 0, 0, 0, 0, 1, 1, 0, 0, 0, 1, 0, 0, 0, 1, 0, 0, 0, 0, 0, 1, 1, 0, 0, 0, 1, 0, 1, 0, 1, 0, 0, 0, 0, 1, 0, 0, 0, 0, 0, 0, 0, 0, 0, 0, 0, 0, 0, 0, 1, 0, 0, 0, 1, 0, 0, 0, 0, 0, 0, 0, 1, 0, 0, 0, 1, 1, 0, 1, 0, 0, 1, 0, 0, 0, 0, 0, 0, 1, 0, 0, 0, 1, 0, 0, 0, 1, 0, 0, 0, 1, 1, 0, 0, 0, 0, 1, 1, 0, 1, 0, 0, 0, 1, 1, 1, 0, 0, 0, 0, 0, 0, 0, 0, 0, 1, 0, 1, 1, 0, 1, 1, 0, 1, 0, 0, 0, 0, 1, 0, 1, 0, 1, 0, 0, 1, 0, 0, 1, 0, 1, 0, 0, 0, 0, 0, 0, 1, 0, 1, 1, 1, 0, 0, 1, 0, 0, 0, 0, 1, 0, 1, 0, 0, 0, 1, 0, 0, 0, 0, 0, 0, 0, 0, 0, 1, 0, 0, 0, 0, 1, 0, 1, 0, 0, 0, 0, 0, 0, 0, 0, 0, 0, 0, 0, 0, 0, 0, 0, 0, 0, 1, 0, 1, 0, 0, 1, 0, 1, 0, 0, 0, 0, 0, 0, 1, 0, 0, 1, 1, 0, 0, 0, 0, 1, 0, 0, 0, 0, 1, 0, 0, 0, 0, 0, 1, 0, 0, 1, 0, 0, 1, 0, 0, 0, 0, 0, 1, 1, 0, 1, 1, 1, 1, 1, 1, 0, 0, 0, 0, 1, 0, 0, 1, 0, 0, 1, 0, 0, 0, 0, 0, 0, 0, 0, 0, 1, 0, 0, 0, 0, 1, 0, 0, 1, 0, 0, 0, 0, 1, 1, 0, 0, 0, 0, 0, 0, 1, 0, 1, 0, 0, 1, 0, 1, 0, 0, 1, 0, 0, 0, 0, 1, 1, 1, 0, 0, 1, 1, 0, 1, 0, 0, 1, 0, 0, 0, 0, 1, 1, 0, 0, 1, 1, 1, 0, 0, 0, 0, 0, 0, 1, 1, 0, 0, 0, 0, 1, 0, 0, 0, 0, 0, 1, 1, 0, 1, 0, 0, 0, 1, 1, 0, 0, 1, 0, 1, 1, 0, 0, 1, 1, 0, 0, 0, 0, 1, 0, 0, 0, 0, 0, 0, 1, 0, 0, 0, 0, 0, 0, 1, 0, 0, 0, 1, 0, 1, 0, 0, 0, 0, 0, 0, 0, 1, 0, 1, 0, 1, 0, 0, 1, 0, 0, 1, 0, 0, 0, 0, 0, 0, 1, 0, 0, 0, 0, 0, 0, 1, 0, 0, 1, 1, 0, 1, 0, 0, 0, 0, 1, 1, 0, 0, 0, 0, 1, 0, 0, 0, 0, 0, 0, 1, 0, 0, 1, 0, 0, 0, 1, 0, 1, 0, 1, 0, 0, 0, 1, 0, 1, 0, 1, 0, 0, 1, 1, 0, 0, 0, 0, 0, 0, 0, 1, 0, 1, 0, 0, 0, 1, 0, 1, 0, 1, 0, 0, 0, 0, 1, 0, 0, 0, 1, 0, 0, 0, 0, 0, 0, 0, 0, 0, 1, 0, 1, 0, 0, 0, 0, 0, 0, 0, 0, 0, 0, 0, 0, 1, 0, 1, 1, 0, 0, 0, 1, 0, 0, 0, 0, 1, 0, 0]\",\\n    \"Reshaping.\",\\n    \"Preparing classification Report\",\\n    \"Returning.\",\\n    \"save model ...\",\\n    \"Finished\"\\n  ],\\n  \"run_name\": \"DICOM_Training_2023-02-07 01:46:39.545122\"\\n}')]\n"
     ]
    }
   ],
   "source": [
    "import time\n",
    "\n",
    "image_count = 10*1000\n",
    "epochs = 3\n",
    "display(Markdown(\"Model training ...\"))\n",
    "\n",
    "t = time.process_time()\n",
    "stmt = f''' call train_pneumonia_identification_model(\n",
    "        {image_count} \n",
    "        ,'@model_stg' \n",
    "        ,'{config['APP_DB']['model_flname']}' \n",
    "        ,{epochs}); '''\n",
    "print(stmt)\n",
    "out_df = sp_session.sql(stmt).collect()\n",
    "elapsed_time = (time.process_time() - t) #/60\n",
    "\n",
    "print(f'Total execution time for training: {elapsed_time} minutes')\n",
    "print(out_df)"
   ]
  },
  {
   "cell_type": "code",
   "execution_count": 52,
   "id": "adae0c4e",
   "metadata": {},
   "outputs": [
    {
     "data": {
      "text/html": [
       "<div>\n",
       "<style scoped>\n",
       "    .dataframe tbody tr th:only-of-type {\n",
       "        vertical-align: middle;\n",
       "    }\n",
       "\n",
       "    .dataframe tbody tr th {\n",
       "        vertical-align: top;\n",
       "    }\n",
       "\n",
       "    .dataframe thead th {\n",
       "        text-align: right;\n",
       "    }\n",
       "</style>\n",
       "<table border=\"1\" class=\"dataframe\">\n",
       "  <thead>\n",
       "    <tr style=\"text-align: right;\">\n",
       "      <th></th>\n",
       "      <th>name</th>\n",
       "      <th>size</th>\n",
       "      <th>last_modified</th>\n",
       "    </tr>\n",
       "  </thead>\n",
       "  <tbody>\n",
       "    <tr>\n",
       "      <th>0</th>\n",
       "      <td>model_stg/pneumonia_model.joblib</td>\n",
       "      <td>95047952</td>\n",
       "      <td>Tue, 7 Feb 2023 08:56:19 GMT</td>\n",
       "    </tr>\n",
       "  </tbody>\n",
       "</table>\n",
       "</div>"
      ],
      "text/plain": [
       "                               name      size                 last_modified\n",
       "0  model_stg/pneumonia_model.joblib  95047952  Tue, 7 Feb 2023 08:56:19 GMT"
      ]
     },
     "metadata": {},
     "output_type": "display_data"
    }
   ],
   "source": [
    "import pandas as pd\n",
    "\n",
    "rows = sp_session.sql(f''' list @model_stg; ''').collect()\n",
    "data = []\n",
    "for r in rows:\n",
    "    data.append({\n",
    "        'name': r['name']\n",
    "        ,'size': r['size']\n",
    "        ,'last_modified': r['last_modified']\n",
    "    })\n",
    "\n",
    "df = pd.json_normalize(data)\n",
    "display(df)\n",
    "\n"
   ]
  },
  {
   "cell_type": "markdown",
   "id": "1d6ffbf6",
   "metadata": {},
   "source": [
    "--- \n",
    "### Closeout\n",
    "\n",
    "    With that we are finished this section of the demo setup"
   ]
  },
  {
   "cell_type": "code",
   "execution_count": 54,
   "id": "192cf880",
   "metadata": {},
   "outputs": [
    {
     "name": "stdout",
     "output_type": "stream",
     "text": [
      "Finished!!!\n"
     ]
    }
   ],
   "source": [
    "sp_session.close()\n",
    "print('Finished!!!')"
   ]
  }
 ],
 "metadata": {
  "kernelspec": {
   "display_name": "Python 3.8.15 ('pysnowpark002')",
   "language": "python",
   "name": "python3"
  },
  "language_info": {
   "codemirror_mode": {
    "name": "ipython",
    "version": 3
   },
   "file_extension": ".py",
   "mimetype": "text/x-python",
   "name": "python",
   "nbconvert_exporter": "python",
   "pygments_lexer": "ipython3",
   "version": "3.8.15"
  },
  "vscode": {
   "interpreter": {
    "hash": "315dab235d255f2b1c7437423d39654c13de0e7fada135e10cd0414d917adbdd"
   }
  }
 },
 "nbformat": 4,
 "nbformat_minor": 5
}
