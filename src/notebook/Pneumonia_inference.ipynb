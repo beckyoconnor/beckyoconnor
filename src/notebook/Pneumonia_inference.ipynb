{
 "cells": [
  {
   "cell_type": "markdown",
   "id": "e4022bce",
   "metadata": {},
   "source": [
    "# Inference\n",
    "\n",
    "We will be performing:\n",
    " - Creating an UDF that will be used for inferencing\n",
    " - Do a sample run of inference"
   ]
  },
  {
   "cell_type": "code",
   "execution_count": 18,
   "id": "f8f142c9",
   "metadata": {},
   "outputs": [
    {
     "data": {
      "text/markdown": [
       "### Initialization"
      ],
      "text/plain": [
       "<IPython.core.display.Markdown object>"
      ]
     },
     "metadata": {},
     "output_type": "display_data"
    },
    {
     "data": {
      "text/html": [
       "<div>\n",
       "<style scoped>\n",
       "    .dataframe tbody tr th:only-of-type {\n",
       "        vertical-align: middle;\n",
       "    }\n",
       "\n",
       "    .dataframe tbody tr th {\n",
       "        vertical-align: top;\n",
       "    }\n",
       "\n",
       "    .dataframe thead th {\n",
       "        text-align: right;\n",
       "    }\n",
       "</style>\n",
       "<table border=\"1\" class=\"dataframe\">\n",
       "  <thead>\n",
       "    <tr style=\"text-align: right;\">\n",
       "      <th></th>\n",
       "      <th>CURRENT_USER()</th>\n",
       "      <th>CURRENT_ROLE()</th>\n",
       "      <th>CURRENT_DATABASE()</th>\n",
       "      <th>CURRENT_SCHEMA()</th>\n",
       "    </tr>\n",
       "  </thead>\n",
       "  <tbody>\n",
       "    <tr>\n",
       "      <th>0</th>\n",
       "      <td>BECKY</td>\n",
       "      <td>PUBLIC</td>\n",
       "      <td>INDSOL_DICOM_DB</td>\n",
       "      <td>PUBLIC</td>\n",
       "    </tr>\n",
       "  </tbody>\n",
       "</table>\n",
       "</div>"
      ],
      "text/plain": [
       "  CURRENT_USER() CURRENT_ROLE() CURRENT_DATABASE() CURRENT_SCHEMA()\n",
       "0          BECKY         PUBLIC    INDSOL_DICOM_DB           PUBLIC"
      ]
     },
     "metadata": {},
     "output_type": "display_data"
    }
   ],
   "source": [
    "\n",
    "from IPython.display import display, HTML, Image , Markdown\n",
    "from snowflake.snowpark.session import Session\n",
    "import snowflake.snowpark.types as T\n",
    "import snowflake.snowpark.functions as F\n",
    "import os ,configparser ,json ,logging\n",
    "\n",
    "# Import the commonly defined utility scripts using\n",
    "# dynamic path include\n",
    "import sys\n",
    "sys.path.append('../python/lutils')\n",
    "import sflk_base as L\n",
    "\n",
    "display(Markdown(\"### Initialization\"))\n",
    "logging.basicConfig(stream=sys.stdout, level=logging.ERROR)\n",
    "\n",
    "# Source various helper functions\n",
    "%run ./scripts/notebook_helpers.py\n",
    "\n",
    "# Define the project home directory, this is used for locating the config.ini file\n",
    "PROJECT_HOME_DIR = '../../'\n",
    "config = L.get_config(PROJECT_HOME_DIR)\n",
    "sp_session = L.connect_to_snowflake(PROJECT_HOME_DIR)\n",
    "\n",
    "if(sp_session == None):\n",
    "    raise Exception(f'Unable to connect to snowflake. Validate connection information ')\n",
    "\n",
    "sp_session.use_role(f'''{config['APP_DB']['role']}''')\n",
    "sp_session.use_schema(f'''{config['APP_DB']['database']}.{config['APP_DB']['schema']}''')\n",
    "sp_session.use_warehouse(f'''{config['APP_DB']['snow_opt_wh']}''')\n",
    "\n",
    "df = sp_session.sql('select current_user() ,current_role() ,current_database() ,current_schema();').to_pandas()\n",
    "display(df)"
   ]
  },
  {
   "cell_type": "code",
   "execution_count": 19,
   "id": "a701da57",
   "metadata": {},
   "outputs": [
    {
     "data": {
      "text/markdown": [
       "Define the inference function"
      ],
      "text/plain": [
       "<IPython.core.display.Markdown object>"
      ]
     },
     "metadata": {},
     "output_type": "display_data"
    }
   ],
   "source": [
    "display(Markdown(\"Define the inference function\"))\n",
    "\n",
    "stmts = [\n",
    "    f'''\n",
    "    PUT file://../python/pneumonia_image_inference.py @lib_stg/scripts \n",
    "    auto_compress = false\n",
    "    overwrite = true;\n",
    "    '''\n",
    "    ,f'''\n",
    "    create or replace function infer_pneumonia(image_array_shape_0 integer ,image_array_shape_1 integer ,resized_feature varchar)\n",
    "     returns integer\n",
    "     language python\n",
    "     runtime_version = '3.8'\n",
    "     packages = ('snowflake-snowpark-python','numpy', 'pandas', 'snowflake-snowpark-python' ,'tensorflow' ,'scikit-learn')\n",
    "     imports = ('@lib_stg/scripts/pneumonia_image_inference.py' \n",
    "                ,'@model_stg/pneumonia_model.joblib')\n",
    "     handler = 'pneumonia_image_inference.main'\n",
    "    '''\n",
    "]    \n",
    "    \n",
    "for stmt in stmts:\n",
    "    sp_session.sql(stmt).collect()"
   ]
  },
  {
   "cell_type": "code",
   "execution_count": 21,
   "id": "269ae7b7",
   "metadata": {},
   "outputs": [
    {
     "data": {
      "text/markdown": [
       "Sample inference execution"
      ],
      "text/plain": [
       "<IPython.core.display.Markdown object>"
      ]
     },
     "metadata": {},
     "output_type": "display_data"
    },
    {
     "data": {
      "text/html": [
       "<div>\n",
       "<style scoped>\n",
       "    .dataframe tbody tr th:only-of-type {\n",
       "        vertical-align: middle;\n",
       "    }\n",
       "\n",
       "    .dataframe tbody tr th {\n",
       "        vertical-align: top;\n",
       "    }\n",
       "\n",
       "    .dataframe thead th {\n",
       "        text-align: right;\n",
       "    }\n",
       "</style>\n",
       "<table border=\"1\" class=\"dataframe\">\n",
       "  <thead>\n",
       "    <tr style=\"text-align: right;\">\n",
       "      <th></th>\n",
       "      <th>CLASS_LABEL</th>\n",
       "      <th>CLASS_LABEL_NUM</th>\n",
       "      <th>PREDICTED_CLASS_NUM</th>\n",
       "      <th>IMAGE_FILE_PATH</th>\n",
       "    </tr>\n",
       "  </thead>\n",
       "  <tbody>\n",
       "    <tr>\n",
       "      <th>0</th>\n",
       "      <td>NORMAL</td>\n",
       "      <td>1</td>\n",
       "      <td>1</td>\n",
       "      <td>@data_stg/NORMAL/NORMAL2-IM-0913-0001.jpeg</td>\n",
       "    </tr>\n",
       "    <tr>\n",
       "      <th>1</th>\n",
       "      <td>PNEUMONIA</td>\n",
       "      <td>0</td>\n",
       "      <td>0</td>\n",
       "      <td>@data_stg/PNEUMONIA/person1408_bacteria_3579.jpeg</td>\n",
       "    </tr>\n",
       "    <tr>\n",
       "      <th>2</th>\n",
       "      <td>PNEUMONIA</td>\n",
       "      <td>0</td>\n",
       "      <td>0</td>\n",
       "      <td>@data_stg/PNEUMONIA/person1242_bacteria_3198.jpeg</td>\n",
       "    </tr>\n",
       "    <tr>\n",
       "      <th>3</th>\n",
       "      <td>NORMAL</td>\n",
       "      <td>1</td>\n",
       "      <td>1</td>\n",
       "      <td>@data_stg/NORMAL/NORMAL2-IM-1124-0001.jpeg</td>\n",
       "    </tr>\n",
       "    <tr>\n",
       "      <th>4</th>\n",
       "      <td>NORMAL</td>\n",
       "      <td>1</td>\n",
       "      <td>1</td>\n",
       "      <td>@data_stg/NORMAL/NORMAL2-IM-0587-0001.jpeg</td>\n",
       "    </tr>\n",
       "  </tbody>\n",
       "</table>\n",
       "</div>"
      ],
      "text/plain": [
       "  CLASS_LABEL  CLASS_LABEL_NUM  PREDICTED_CLASS_NUM  \\\n",
       "0      NORMAL                1                    1   \n",
       "1   PNEUMONIA                0                    0   \n",
       "2   PNEUMONIA                0                    0   \n",
       "3      NORMAL                1                    1   \n",
       "4      NORMAL                1                    1   \n",
       "\n",
       "                                     IMAGE_FILE_PATH  \n",
       "0         @data_stg/NORMAL/NORMAL2-IM-0913-0001.jpeg  \n",
       "1  @data_stg/PNEUMONIA/person1408_bacteria_3579.jpeg  \n",
       "2  @data_stg/PNEUMONIA/person1242_bacteria_3198.jpeg  \n",
       "3         @data_stg/NORMAL/NORMAL2-IM-1124-0001.jpeg  \n",
       "4         @data_stg/NORMAL/NORMAL2-IM-0587-0001.jpeg  "
      ]
     },
     "metadata": {},
     "output_type": "display_data"
    }
   ],
   "source": [
    "display(Markdown(\"Sample inference execution\"))\n",
    "\n",
    "stmt = f''' \n",
    "    select \n",
    "        class_label ,class_label_num\n",
    "        ,infer_pneumonia(image_array_shape_0 ,image_array_shape_1 ,resized_feature) as predicted_class_num\n",
    "        ,IMAGE_FILE_PATH\n",
    "    from images_formatted\n",
    "    where IMAGE_FILE_PATH in (\n",
    "        '@data_stg/NORMAL/NORMAL2-IM-1124-0001.jpeg'\n",
    "        ,'@data_stg/NORMAL/NORMAL/IM-0555-0001.jpeg'\n",
    "        ,'@data_stg/PNEUMONIA/person1408_bacteria_3579.jpeg'\n",
    "        ,'@data_stg/NORMAL/NORMAL2-IM-0913-0001.jpeg'\n",
    "        ,'@data_stg/PNEUMONIA/person1242_bacteria_3198.jpeg'\n",
    "        ,'@data_stg/NORMAL/NORMAL2-IM-0587-0001.jpeg'\n",
    "    )\n",
    "'''\n",
    "df = sp_session.sql(stmt).to_pandas()\n",
    "\n",
    "display(df)\n"
   ]
  },
  {
   "cell_type": "markdown",
   "id": "1d6ffbf6",
   "metadata": {},
   "source": [
    "--- \n",
    "### Closeout\n",
    "\n",
    "    With that we are finished this section of the demo setup"
   ]
  },
  {
   "cell_type": "code",
   "execution_count": null,
   "id": "192cf880",
   "metadata": {},
   "outputs": [],
   "source": [
    "sp_session.close()\n",
    "print('Finished!!!')"
   ]
  }
 ],
 "metadata": {
  "kernelspec": {
   "display_name": "Python 3.8.15 ('pysnowpark002')",
   "language": "python",
   "name": "python3"
  },
  "language_info": {
   "codemirror_mode": {
    "name": "ipython",
    "version": 3
   },
   "file_extension": ".py",
   "mimetype": "text/x-python",
   "name": "python",
   "nbconvert_exporter": "python",
   "pygments_lexer": "ipython3",
   "version": "3.8.15"
  },
  "vscode": {
   "interpreter": {
    "hash": "315dab235d255f2b1c7437423d39654c13de0e7fada135e10cd0414d917adbdd"
   }
  }
 },
 "nbformat": 4,
 "nbformat_minor": 5
}
